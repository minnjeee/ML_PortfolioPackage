{
 "cells": [
  {
   "cell_type": "code",
   "execution_count": null,
   "id": "f640e376",
   "metadata": {},
   "outputs": [],
   "source": [
    "a above"
   ]
  },
  {
   "cell_type": "code",
   "execution_count": 1,
   "id": "03de468c",
   "metadata": {},
   "outputs": [
    {
     "name": "stdout",
     "output_type": "stream",
     "text": [
      "안녕하세요\n"
     ]
    }
   ],
   "source": [
    "print('안녕하세요')"
   ]
  },
  {
   "cell_type": "code",
   "execution_count": null,
   "id": "392275f9",
   "metadata": {},
   "outputs": [],
   "source": [
    "b below"
   ]
  },
  {
   "cell_type": "code",
   "execution_count": null,
   "id": "cfa70ce7",
   "metadata": {},
   "outputs": [],
   "source": [
    "dd delete"
   ]
  },
  {
   "cell_type": "code",
   "execution_count": null,
   "id": "b1c2c2f7",
   "metadata": {},
   "outputs": [],
   "source": [
    "#주석 메모\n",
    "# 컨트롤 + /"
   ]
  },
  {
   "cell_type": "code",
   "execution_count": 2,
   "id": "6045b75b",
   "metadata": {},
   "outputs": [
    {
     "name": "stdout",
     "output_type": "stream",
     "text": [
      "1\n"
     ]
    }
   ],
   "source": [
    "# 변수 = 값/데이터\n",
    "x=1\n",
    "print(x)"
   ]
  },
  {
   "cell_type": "code",
   "execution_count": 3,
   "id": "5619a583",
   "metadata": {},
   "outputs": [
    {
     "name": "stdout",
     "output_type": "stream",
     "text": [
      "11\n"
     ]
    }
   ],
   "source": [
    "y=3\n",
    "y=11\n",
    "print(y)"
   ]
  },
  {
   "cell_type": "code",
   "execution_count": 4,
   "id": "e65ff254",
   "metadata": {},
   "outputs": [
    {
     "name": "stdout",
     "output_type": "stream",
     "text": [
      "<class 'int'>\n"
     ]
    }
   ],
   "source": [
    "# int, float\n",
    "x = 15\n",
    "print(type(x))"
   ]
  },
  {
   "cell_type": "code",
   "execution_count": 6,
   "id": "8afba3f9",
   "metadata": {},
   "outputs": [
    {
     "name": "stdout",
     "output_type": "stream",
     "text": [
      "<class 'float'>\n"
     ]
    }
   ],
   "source": [
    "y = 9.5\n",
    "print(type(y))"
   ]
  },
  {
   "cell_type": "code",
   "execution_count": 7,
   "id": "992b26ec",
   "metadata": {},
   "outputs": [
    {
     "name": "stdout",
     "output_type": "stream",
     "text": [
      "<class 'str'>\n"
     ]
    }
   ],
   "source": [
    "# str\n",
    "s = \"가가\"\n",
    "print(type(s))"
   ]
  },
  {
   "cell_type": "code",
   "execution_count": 8,
   "id": "d05aa606",
   "metadata": {},
   "outputs": [],
   "source": [
    "# list\n",
    "li = ['가','나','다','라','마']\n",
    "    # 0    1.   2.   3.   4\n",
    "    # -5.   -4.  -3. -2. -1\n",
    "    \n",
    "    \n",
    "# 슬라이싱\n",
    "# 리스트이름 [시작인덱스번호 : 마지막인덱스번호]"
   ]
  },
  {
   "cell_type": "code",
   "execution_count": 10,
   "id": "596a2686",
   "metadata": {},
   "outputs": [
    {
     "name": "stdout",
     "output_type": "stream",
     "text": [
      "5\n",
      "3\n"
     ]
    }
   ],
   "source": [
    "print(len(li))\n",
    "print(len(\"문자열\"))"
   ]
  },
  {
   "cell_type": "code",
   "execution_count": 13,
   "id": "807ed84a",
   "metadata": {},
   "outputs": [
    {
     "name": "stdout",
     "output_type": "stream",
     "text": [
      "[1, 2, 3, 4, ['원숭이', '토끼', '코끼리']]\n"
     ]
    }
   ],
   "source": [
    "li1 = [1,2,3,4]\n",
    "li2 = ['원숭이','토끼','코끼리']\n",
    "li1.append(li2)\n",
    "print(li1)"
   ]
  },
  {
   "cell_type": "code",
   "execution_count": 15,
   "id": "67d8b970",
   "metadata": {},
   "outputs": [],
   "source": [
    "dic = {\n",
    "    '이름':'김민지',\n",
    "    '나이':'1998년생',\n",
    "    '주소':'홍제동'\n",
    "}"
   ]
  },
  {
   "cell_type": "code",
   "execution_count": 16,
   "id": "9ac9a5f4",
   "metadata": {},
   "outputs": [
    {
     "data": {
      "text/plain": [
       "dict_keys(['이름', '나이', '주소'])"
      ]
     },
     "execution_count": 16,
     "metadata": {},
     "output_type": "execute_result"
    }
   ],
   "source": [
    "dic.keys()"
   ]
  },
  {
   "cell_type": "code",
   "execution_count": 18,
   "id": "249a63e9",
   "metadata": {},
   "outputs": [
    {
     "data": {
      "text/plain": [
       "dict_values(['김민지', '1998년생', '홍제동'])"
      ]
     },
     "execution_count": 18,
     "metadata": {},
     "output_type": "execute_result"
    }
   ],
   "source": [
    "dic.values()"
   ]
  },
  {
   "cell_type": "code",
   "execution_count": 19,
   "id": "8c3ce084",
   "metadata": {},
   "outputs": [
    {
     "data": {
      "text/plain": [
       "dict_items([('이름', '김민지'), ('나이', '1998년생'), ('주소', '홍제동')])"
      ]
     },
     "execution_count": 19,
     "metadata": {},
     "output_type": "execute_result"
    }
   ],
   "source": [
    "dic.items()"
   ]
  },
  {
   "cell_type": "code",
   "execution_count": 21,
   "id": "ab8e346d",
   "metadata": {},
   "outputs": [
    {
     "data": {
      "text/plain": [
       "'김민지'"
      ]
     },
     "execution_count": 21,
     "metadata": {},
     "output_type": "execute_result"
    }
   ],
   "source": [
    "# dict[키]\n",
    "dic['이름']"
   ]
  },
  {
   "cell_type": "code",
   "execution_count": 23,
   "id": "0aaba99a",
   "metadata": {},
   "outputs": [
    {
     "data": {
      "text/plain": [
       "{'이름': '김민지', '나이': '1998년생', '주소': '홍제동', '전화번호': '01029004039'}"
      ]
     },
     "execution_count": 23,
     "metadata": {},
     "output_type": "execute_result"
    }
   ],
   "source": [
    "dic['전화번호']='01029004039'\n",
    "dic"
   ]
  },
  {
   "cell_type": "code",
   "execution_count": 26,
   "id": "627b0640",
   "metadata": {},
   "outputs": [
    {
     "data": {
      "text/plain": [
       "False"
      ]
     },
     "execution_count": 26,
     "metadata": {},
     "output_type": "execute_result"
    }
   ],
   "source": [
    "a = ['사과','배','오렌지']\n",
    "'딸기' in a\n"
   ]
  },
  {
   "cell_type": "code",
   "execution_count": 25,
   "id": "4817b00e",
   "metadata": {},
   "outputs": [
    {
     "data": {
      "text/plain": [
       "True"
      ]
     },
     "execution_count": 25,
     "metadata": {},
     "output_type": "execute_result"
    }
   ],
   "source": [
    "'딸기' not in a"
   ]
  },
  {
   "cell_type": "code",
   "execution_count": 27,
   "id": "1e1d2fb1",
   "metadata": {},
   "outputs": [
    {
     "data": {
      "text/plain": [
       "True"
      ]
     },
     "execution_count": 27,
     "metadata": {},
     "output_type": "execute_result"
    }
   ],
   "source": [
    "b = '태극기'\n",
    "c = '태극기는 휘날리다'\n",
    "b in c"
   ]
  },
  {
   "cell_type": "code",
   "execution_count": 29,
   "id": "5465c6be",
   "metadata": {},
   "outputs": [
    {
     "name": "stdout",
     "output_type": "stream",
     "text": [
      "안녕하세요 김민지님\n"
     ]
    }
   ],
   "source": [
    "# 포매팅\n",
    "# \"문자열 { }\".format(변수) - 3.5버전 이하\n",
    "name = '김민지'\n",
    "sentence = \"안녕하세요 {}님\".format(name)\n",
    "print(sentence)"
   ]
  },
  {
   "cell_type": "code",
   "execution_count": 31,
   "id": "405ce32f",
   "metadata": {},
   "outputs": [
    {
     "name": "stdout",
     "output_type": "stream",
     "text": [
      "안녕하세요 김민지님\n"
     ]
    }
   ],
   "source": [
    "# f\"문자열 {변수}\" - 3.6버전\n",
    "sentence2 = f\"안녕하세요 {name}님\"\n",
    "print(sentence2)"
   ]
  },
  {
   "cell_type": "code",
   "execution_count": 32,
   "id": "700a6189",
   "metadata": {},
   "outputs": [
    {
     "name": "stdout",
     "output_type": "stream",
     "text": [
      "오늘은 1월 12일입니다.\n",
      "오늘은 1월 12일입니다.\n"
     ]
    }
   ],
   "source": [
    "# 변수 여러 개도 가능\n",
    "month = '1월'\n",
    "day = '12일'\n",
    "\n",
    "sentence3 = \"오늘은 {} {}입니다.\".format(month, day)\n",
    "sentence4 = f\"오늘은 {month} {day}입니다.\"\n",
    "print(sentence3)\n",
    "print(sentence4)"
   ]
  },
  {
   "cell_type": "code",
   "execution_count": 34,
   "id": "775be9ae",
   "metadata": {},
   "outputs": [
    {
     "name": "stdout",
     "output_type": "stream",
     "text": [
      "2 x 1 = 2\n",
      "2 x 2 = 4\n",
      "2 x 3 = 6\n",
      "2 x 4 = 8\n",
      "2 x 5 = 10\n",
      "2 x 6 = 12\n",
      "2 x 7 = 14\n",
      "2 x 8 = 16\n",
      "2 x 9 = 18\n",
      "*************\n",
      "3 x 1 = 3\n",
      "3 x 2 = 6\n",
      "3 x 3 = 9\n",
      "3 x 4 = 12\n",
      "3 x 5 = 15\n",
      "3 x 6 = 18\n",
      "3 x 7 = 21\n",
      "3 x 8 = 24\n",
      "3 x 9 = 27\n",
      "*************\n",
      "4 x 1 = 4\n",
      "4 x 2 = 8\n",
      "4 x 3 = 12\n",
      "4 x 4 = 16\n",
      "4 x 5 = 20\n",
      "4 x 6 = 24\n",
      "4 x 7 = 28\n",
      "4 x 8 = 32\n",
      "4 x 9 = 36\n",
      "*************\n",
      "5 x 1 = 5\n",
      "5 x 2 = 10\n",
      "5 x 3 = 15\n",
      "5 x 4 = 20\n",
      "5 x 5 = 25\n",
      "5 x 6 = 30\n",
      "5 x 7 = 35\n",
      "5 x 8 = 40\n",
      "5 x 9 = 45\n",
      "*************\n",
      "6 x 1 = 6\n",
      "6 x 2 = 12\n",
      "6 x 3 = 18\n",
      "6 x 4 = 24\n",
      "6 x 5 = 30\n",
      "6 x 6 = 36\n",
      "6 x 7 = 42\n",
      "6 x 8 = 48\n",
      "6 x 9 = 54\n",
      "*************\n",
      "7 x 1 = 7\n",
      "7 x 2 = 14\n",
      "7 x 3 = 21\n",
      "7 x 4 = 28\n",
      "7 x 5 = 35\n",
      "7 x 6 = 42\n",
      "7 x 7 = 49\n",
      "7 x 8 = 56\n",
      "7 x 9 = 63\n",
      "*************\n",
      "8 x 1 = 8\n",
      "8 x 2 = 16\n",
      "8 x 3 = 24\n",
      "8 x 4 = 32\n",
      "8 x 5 = 40\n",
      "8 x 6 = 48\n",
      "8 x 7 = 56\n",
      "8 x 8 = 64\n",
      "8 x 9 = 72\n",
      "*************\n",
      "9 x 1 = 9\n",
      "9 x 2 = 18\n",
      "9 x 3 = 27\n",
      "9 x 4 = 36\n",
      "9 x 5 = 45\n",
      "9 x 6 = 54\n",
      "9 x 7 = 63\n",
      "9 x 8 = 72\n",
      "9 x 9 = 81\n",
      "*************\n"
     ]
    }
   ],
   "source": [
    "for a in [2,3,4,5,6,7,8,9]:\n",
    "    for b in [1,2,3,4,5,6,7,8,9]:\n",
    "        sentence = f\"{a} x {b} = {a*b}\"\n",
    "        print(sentence)\n",
    "    print('*************')"
   ]
  }
 ],
 "metadata": {
  "kernelspec": {
   "display_name": "Python 3 (ipykernel)",
   "language": "python",
   "name": "python3"
  },
  "language_info": {
   "codemirror_mode": {
    "name": "ipython",
    "version": 3
   },
   "file_extension": ".py",
   "mimetype": "text/x-python",
   "name": "python",
   "nbconvert_exporter": "python",
   "pygments_lexer": "ipython3",
   "version": "3.9.13"
  }
 },
 "nbformat": 4,
 "nbformat_minor": 5
}
